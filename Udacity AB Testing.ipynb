{
 "cells": [
  {
   "cell_type": "markdown",
   "metadata": {},
   "source": [
    "# Experiment Overview: Free Trial Screener\n",
    "In the experiment, Udacity tested a change where if the student clicked \"start free trial\", they were asked how much time they had available to devote to the course. If the student indicated 5 or more hours per week, they would be taken through the checkout process as usual. If they indicated fewer than 5 hours per week, a message would appear indicating that Udacity courses usually require a greater time commitment for successful completion, and suggesting that the student might like to access the course materials for free. At this point, the student would have the option to continue enrolling in the free trial, or access the course materials for free instead. This screenshot shows what the experiment looks like.\n",
    "\n",
    "**The hypothesis** was that this might set clearer expectations for students upfront **thus reducing the number of frustrated students** who left the free trial because they didn't have enough time—**without significantly reducing the number of students to continue past the free trial and eventually complete the course**.\n",
    "\n"
   ]
  },
  {
   "cell_type": "markdown",
   "metadata": {},
   "source": [
    "\n",
    "### Evaluation Metrics\n",
    "\n",
    "**Enrollment Rate:** number of users complete checkout and enroll in the free trial divided by number of unique cookies to click the \"Start free trial\" button. (dmin= 0.01)\n",
    "\n",
    "**Retention:** number of users to remain enrolled past the 14-day boundary (and thus make at least one payment) divided by number of users to complete checkout. (dmin=0.01)\n",
    "\n",
    "**Conversion Rate:** number of users to remain enrolled past the 14-day boundary (and thus make at least one payment) divided by the number of unique cookies to click the \"Start free trial\" button. (dmin= 0.0075)"
   ]
  },
  {
   "cell_type": "markdown",
   "metadata": {},
   "source": [
    "## The goals of the experiment in the practical meaning:\n",
    " \n",
    "- Reduce number of enrollments that eventually fall out after 2 weeks of free trial \n",
    "\n",
    "- Retain or imcrease the number of payments\n",
    "\n",
    "## The goals of the experiment in terms of our metrics:\n",
    "\n",
    "- the enrollment rate should decrease\n",
    "\n",
    "- the net conversion should not decrease"
   ]
  },
  {
   "cell_type": "code",
   "execution_count": 1,
   "metadata": {
    "collapsed": false
   },
   "outputs": [],
   "source": [
    "reset -sf"
   ]
  },
  {
   "cell_type": "code",
   "execution_count": null,
   "metadata": {
    "collapsed": false
   },
   "outputs": [],
   "source": [
    "import numpy as np\n",
    "import pandas as pd\n",
    "from scipy import stats\n",
    "from scipy.stats import beta\n",
    "import seaborn as sns\n",
    "%pylab inline"
   ]
  },
  {
   "cell_type": "code",
   "execution_count": 3,
   "metadata": {
    "collapsed": false
   },
   "outputs": [],
   "source": [
    "control = pd.read_excel(open('data/data.xlsx','rb'), sheet_name='Control')\n",
    "control = control.fillna(0)\n",
    "experiment = pd.read_excel(open('data/data.xlsx','rb'), sheet_name='Experiment')\n",
    "experiment = experiment.fillna(0)"
   ]
  },
  {
   "cell_type": "code",
   "execution_count": 4,
   "metadata": {},
   "outputs": [],
   "source": [
    "def p_is_passed(is_passed, metric=\"metric\"):\n",
    "    if is_passed:\n",
    "        print(f\"{metric} passed ✅\")\n",
    "    else:\n",
    "        print(f\"{metric} failed\")\n",
    "    return is_passed"
   ]
  },
  {
   "cell_type": "markdown",
   "metadata": {},
   "source": [
    "# Frequentist - A/B Testing"
   ]
  },
  {
   "cell_type": "markdown",
   "metadata": {},
   "source": [
    "## 1. Sample Size"
   ]
  },
  {
   "cell_type": "markdown",
   "metadata": {},
   "source": [
    " <img src=\"image/samplesize0.png\">\n"
   ]
  },
  {
   "cell_type": "markdown",
   "metadata": {},
   "source": [
    " <img src=\"image/size.png\">\n"
   ]
  },
  {
   "cell_type": "markdown",
   "metadata": {},
   "source": [
    "The retention rate takes too long to test, hence will be eliminated from evaluation metrics. The remaining metrics are the gross conversion rate and the net conversion rate.\n",
    "\n",
    "- gross conversion rate:  enroll/click\n",
    "- net conversion rate: payment/click\n"
   ]
  },
  {
   "cell_type": "markdown",
   "metadata": {},
   "source": [
    "## 2. Sanity Checks"
   ]
  },
  {
   "cell_type": "markdown",
   "metadata": {
    "collapsed": true
   },
   "source": [
    "<img src=\"image/sanitycheck.png\">\n"
   ]
  },
  {
   "cell_type": "code",
   "execution_count": 5,
   "metadata": {
    "collapsed": false
   },
   "outputs": [],
   "source": [
    "def sanity_check(c, e, metric=\"metric\"):\n",
    "    #c : control value \n",
    "    #e: experiment value\n",
    "    marginal_er = 1.96 * np.sqrt(0.5*0.5/(c+e)) \n",
    "    c_lci = 0.5 - marginal_er\n",
    "    c_uci = 0.5 + marginal_er\n",
    "    obs_value = c/(c+e)\n",
    "    p_is_passed(c_lci < obs_value < c_uci, metric)"
   ]
  },
  {
   "cell_type": "code",
   "execution_count": 6,
   "metadata": {
    "collapsed": false,
    "scrolled": true
   },
   "outputs": [
    {
     "name": "stdout",
     "output_type": "stream",
     "text": [
      "Number of cookies passed ✅\n",
      "Number of clicks passed ✅\n"
     ]
    }
   ],
   "source": [
    "sanity_check(control.Pageviews.sum(), experiment.Pageviews.sum(), \"Number of cookies\")\n",
    "sanity_check(control.Clicks.sum(), experiment.Clicks.sum(), \"Number of clicks\")"
   ]
  },
  {
   "cell_type": "markdown",
   "metadata": {},
   "source": [
    "## 3. Check for Practical and Statistical Significance"
   ]
  },
  {
   "cell_type": "markdown",
   "metadata": {
    "collapsed": true
   },
   "source": [
    "<img src=\"image/practicalsignificance.png\">\n"
   ]
  },
  {
   "cell_type": "code",
   "execution_count": 7,
   "metadata": {
    "collapsed": false
   },
   "outputs": [],
   "source": [
    "def pratical_significance(c_x, c_n, e_x, e_n, dmin, metric=\"metric\"):\n",
    "    c_p, e_p = c_x/c_n, e_x/e_n\n",
    "    pooled_prob = (c_x+e_x)/(c_n+e_n)\n",
    "    margin_error = 1.96*(np.sqrt(((c_p*(1-c_p))/c_n)+((e_p*(1-e_p))/e_n)))\n",
    "    lci = (c_p-e_p) - margin_error\n",
    "    uci = (c_p-e_p) + margin_error\n",
    "    is_passed = p_is_passed(lci<dmin<uci, metric)\n",
    "    if is_passed: print(\"statistically significant\")\n",
    "    else: print(\"not statistically significant\")\n",
    "    print(f'LCI: {(lci):.2} - UCI: {uci:.2} Dmin: {dmin}')\n"
   ]
  },
  {
   "cell_type": "markdown",
   "metadata": {},
   "source": [
    "#### Gross conversion\n",
    "\n",
    "statistically significant "
   ]
  },
  {
   "cell_type": "code",
   "execution_count": 8,
   "metadata": {
    "collapsed": false,
    "scrolled": false
   },
   "outputs": [
    {
     "name": "stdout",
     "output_type": "stream",
     "text": [
      "gross conversion passed ✅\n",
      "statistically significant\n",
      "LCI: 0.007 - UCI: 0.018 Dmin: 0.01\n"
     ]
    }
   ],
   "source": [
    "pratical_significance(control.Enrollments.sum(), control.Clicks.sum(),\n",
    "                        experiment.Enrollments.sum(), experiment.Clicks.sum(),\n",
    "                        0.01, \"gross conversion\")"
   ]
  },
  {
   "cell_type": "markdown",
   "metadata": {},
   "source": [
    "#### Net Conversion\n",
    "\n",
    "not statistically significant\n"
   ]
  },
  {
   "cell_type": "code",
   "execution_count": 9,
   "metadata": {},
   "outputs": [
    {
     "name": "stdout",
     "output_type": "stream",
     "text": [
      "net conversion failed\n",
      "not statistically significant\n",
      "LCI: -0.0012 - UCI: 0.0072 Dmin: 0.0075\n"
     ]
    }
   ],
   "source": [
    "pratical_significance(control.Payments.sum(), control.Clicks.sum(), \n",
    "                        experiment.Payments.sum(), experiment.Clicks.sum(), \n",
    "                        0.0075, \"net conversion\")\n"
   ]
  },
  {
   "cell_type": "markdown",
   "metadata": {},
   "source": [
    "## 4. Conclusion"
   ]
  },
  {
   "cell_type": "markdown",
   "metadata": {},
   "source": [
    "\n",
    "\n",
    "I recommend not to launch this experiment.\n",
    "\n",
    "The hypothesis was that this might set clearer expectations for students upfront, thus reducing the number of frustrated students who left the free trial because they didn't have enough time — without significantly reducing the number of students to continue past the free trial and eventually complete the course.\n",
    "\n",
    "- First, based on effect size test and sign test, the enrollment rate in experiment group is significantly and practically lower than control group. In other words, the number of students who choose to enroll in free trial indeed decreases due to the warning, which aligns with what null hypothesis expects to happen.\n",
    "\n",
    "- Then, since net conversion rate is not statistically significant, the number of students who eventually pass the free trial and make a payment is not different among experiment and control group. At this point, we can conclude that the hypothesis is correct. However, the lower bound of confidence interval is actually lower than lower bound of practical significance level, indicating this change might bring negative impact and we should be cautious about this result. I highly suggest that we need more investigation to this before launching this change. With the data that we have, it's better to not launch this change.\n",
    "\n"
   ]
  },
  {
   "cell_type": "markdown",
   "metadata": {},
   "source": [
    "# Bayesian A/B Testing"
   ]
  },
  {
   "cell_type": "code",
   "execution_count": 10,
   "metadata": {
    "collapsed": false
   },
   "outputs": [],
   "source": [
    "def posterior_distribution(control_alpha, control_beta, experiment_alpha, experiment_beta):\n",
    "    #x: probability/rate\n",
    "    #y: probability density function\n",
    "\n",
    "    #updating posterior distribution\n",
    "    i = 0\n",
    "    if i != len(control):\n",
    "        c_pos_alpha, c_posterior_beta = control_alpha[i] + control_alpha[i+1], control_beta[i] + control_beta[i+1]\n",
    "        e_pos_alpha, e_posterior_beta = experiment_alpha[i] + experiment_alpha[i+1], experiment_beta[i] + experiment_beta[i+1]\n",
    "        i+=1\n",
    "    return c_pos_alpha, c_posterior_beta, e_pos_alpha, e_posterior_beta"
   ]
  },
  {
   "cell_type": "code",
   "execution_count": 11,
   "metadata": {},
   "outputs": [],
   "source": [
    "def plot_with_fill(x, y, label):\n",
    "    #x: probability/rate\n",
    "    #y: probability density function\n",
    "    lines = plt.plot(x, y, label=label, lw=2)\n",
    "    plt.fill_between(x, 0, y, alpha=0.2, color=lines[0].get_c())"
   ]
  },
  {
   "cell_type": "markdown",
   "metadata": {},
   "source": [
    "# Gross Conversion\n",
    "\n",
    ">gross conversion = enroll/click"
   ]
  },
  {
   "cell_type": "code",
   "execution_count": 12,
   "metadata": {
    "collapsed": true
   },
   "outputs": [],
   "source": [
    "control_enrollment = control.Enrollments\n",
    "control_noenrollment = control.Clicks - control.Enrollments\n",
    "control_click = control.Clicks\n",
    "\n",
    "experiment_enrollment = experiment.Enrollments\n",
    "experiment_noenrollment = experiment.Clicks - experiment.Enrollments\n",
    "experiment_click = experiment.Clicks\n",
    "\n",
    "x = np.linspace(0., 1, 1000) #random probability\n"
   ]
  },
  {
   "cell_type": "markdown",
   "metadata": {},
   "source": [
    "## Prior Distribution"
   ]
  },
  {
   "cell_type": "code",
   "execution_count": 13,
   "metadata": {
    "collapsed": false
   },
   "outputs": [
    {
     "name": "stdout",
     "output_type": "stream",
     "text": [
      "Prior Control Gross Conversion Rate: 0.195\n",
      "Prior Experiment Gross Conversion Rate: 0.153\n"
     ]
    }
   ],
   "source": [
    "print(f'Prior Control Gross Conversion Rate: {(control_enrollment[0]/control_click[0]):.3}')\n",
    "print(f'Prior Experiment Gross Conversion Rate: {(experiment_enrollment[0]/experiment_click[0]):.3}')"
   ]
  },
  {
   "cell_type": "code",
   "execution_count": 14,
   "metadata": {},
   "outputs": [],
   "source": [
    "## Get prior distribution\n",
    "c_distribution_gc_prior = stats.beta.pdf(x, control_enrollment[0], control_noenrollment[0])\n",
    "e_distribution_gc_prior  = stats.beta.pdf(x, experiment_enrollment[0], experiment_noenrollment[0])"
   ]
  },
  {
   "cell_type": "code",
   "execution_count": 15,
   "metadata": {},
   "outputs": [
    {
     "data": {
      "text/plain": [
       "<Figure size 432x288 with 0 Axes>"
      ]
     },
     "metadata": {},
     "output_type": "display_data"
    },
    {
     "data": {
      "image/png": "[encoded data removed]",
      "text/plain": [
       "<Figure size 1080x360 with 1 Axes>"
      ]
     },
     "metadata": {
      "needs_background": "light"
     },
     "output_type": "display_data"
    }
   ],
   "source": [
    "plt.figure(2)\n",
    "plt.figure(figsize=(15,5))\n",
    "plot_with_fill(x, c_distribution_gc_prior , 'Control Group')\n",
    "plot_with_fill(x, e_distribution_gc_prior , 'Experiment Group')\n",
    "plt.xlim(xmax=0.3)\n",
    "plt.xlim(xmin = 0.1)\n",
    "plt.xlabel('Gross Conversion Prior')\n",
    "plt.ylabel('Density')\n",
    "plt.legend()\n",
    "plt.show()"
   ]
  },
  {
   "cell_type": "markdown",
   "metadata": {},
   "source": [
    "## Posterior Distribution"
   ]
  },
  {
   "cell_type": "code",
   "execution_count": 16,
   "metadata": {
    "collapsed": false
   },
   "outputs": [],
   "source": [
    "c_pos_alpha_gc, c_posterior_beta_gc, e_pos_alpha_gc, e_posterior_beta_gc = posterior_distribution(control_enrollment,control_noenrollment,experiment_enrollment,experiment_noenrollment)\n",
    "c_distribution_gc_posterior = stats.beta.pdf(x, c_pos_alpha_gc, c_posterior_beta_gc)\n",
    "e_distribution_gc_posterior  = stats.beta.pdf(x, e_pos_alpha_gc, e_posterior_beta_gc)"
   ]
  },
  {
   "cell_type": "code",
   "execution_count": 17,
   "metadata": {
    "collapsed": false,
    "scrolled": false
   },
   "outputs": [
    {
     "data": {
      "text/plain": [
       "<Figure size 432x288 with 0 Axes>"
      ]
     },
     "metadata": {},
     "output_type": "display_data"
    },
    {
     "data": {
      "image/png": "[encoded data removed]",
      "text/plain": [
       "<Figure size 1080x360 with 1 Axes>"
      ]
     },
     "metadata": {
      "needs_background": "light"
     },
     "output_type": "display_data"
    }
   ],
   "source": [
    "plt.figure(2)\n",
    "plt.figure(figsize=(15,5))\n",
    "plot_with_fill(x, c_distribution_gc_posterior , 'Control Group')\n",
    "plot_with_fill(x, e_distribution_gc_posterior , 'Experiment Group')\n",
    "plt.xlim(xmax=0.3)\n",
    "plt.xlim(xmin = 0.1)\n",
    "plt.xlabel('Gross Conversion Posterior')\n",
    "plt.ylabel('Density')\n",
    "plt.legend()\n",
    "plt.show()"
   ]
  },
  {
   "cell_type": "markdown",
   "metadata": {},
   "source": [
    "## Simulations\n"
   ]
  },
  {
   "cell_type": "code",
   "execution_count": 18,
   "metadata": {},
   "outputs": [],
   "source": [
    "# generate random samples from each distribution\n",
    "sim_size = 10000\n",
    "c_rand_gc = np.random.beta(c_pos_alpha_gc, c_posterior_beta_gc, sim_size)\n",
    "e_rand_gc = np.random.beta(e_pos_alpha_gc, e_posterior_beta_gc, sim_size)"
   ]
  },
  {
   "cell_type": "markdown",
   "metadata": {},
   "source": [
    "### Experiment > Control"
   ]
  },
  {
   "cell_type": "code",
   "execution_count": 19,
   "metadata": {},
   "outputs": [
    {
     "name": "stdout",
     "output_type": "stream",
     "text": [
      "Base on a simulation of 10000 samples,\n",
      "the likelihood that the Experiment group outperforms the Control group in GCR is 0.16%\n"
     ]
    }
   ],
   "source": [
    "## Experiment > control\n",
    "c_gcr_small_gc = 0\n",
    "e_grc_small_gc = 0\n",
    "\n",
    "for i in range(sim_size):\n",
    "    if e_rand_gc[i] >= c_rand_gc[i]:\n",
    "        e_grc_small_gc += 1\n",
    "    else:      \n",
    "        c_gcr_small_gc += 1\n",
    "likelihood = e_grc_small_gc*100 / sim_size\n",
    "\n",
    "print(f\"Base on a simulation of {sim_size} samples,\")\n",
    "print(f\"the likelihood that the Experiment group outperforms the Control group in GCR is {likelihood:.3}%\")\n"
   ]
  },
  {
   "cell_type": "code",
   "execution_count": 20,
   "metadata": {},
   "outputs": [
    {
     "name": "stdout",
     "output_type": "stream",
     "text": [
      "Base on a simulation of 10000 samples,\n",
      "the likelihood that the Experiment group outperforms the Control group in GCR by at least 1% is 1e+02%\n"
     ]
    }
   ],
   "source": [
    "# Experiment > Control by k percentage\n",
    "c_gcr_small_gc = 0\n",
    "e_grc_small_gc = 0\n",
    "diffs_gc = np.zeros(sim_size)\n",
    "percentage = 0.01\n",
    "\n",
    "for i in range(sim_size):\n",
    "    diffs_gc[i] = c_rand_gc[i] - e_rand_gc[i]\n",
    "    if  e_rand_gc[i] - percentage <= c_rand_gc[i]:\n",
    "        e_grc_small_gc += 1\n",
    "    else:      \n",
    "        c_gcr_small_gc += 1\n",
    "likelihood = e_grc_small_gc*100 / sim_size\n",
    "\n",
    "print(f\"Base on a simulation of {sim_size} samples,\")\n",
    "print(f\"the likelihood that the Experiment group outperforms the Control group in GCR by at least {int(percentage*100)}% is {likelihood:.3}%\")\n",
    "\n"
   ]
  },
  {
   "cell_type": "markdown",
   "metadata": {},
   "source": [
    "### Experiment < Control"
   ]
  },
  {
   "cell_type": "code",
   "execution_count": 21,
   "metadata": {
    "collapsed": false,
    "scrolled": true
   },
   "outputs": [
    {
     "name": "stdout",
     "output_type": "stream",
     "text": [
      "Base on a simulation of 10000 samples,\n",
      "the likelihood that the Experiment group underperforms the Control group in GCR is 99.8%\n"
     ]
    }
   ],
   "source": [
    "# Experiment < Control\n",
    "\n",
    "# Gross Conversion Rate\n",
    "c_gcr_small_gc = 0\n",
    "e_grc_small_gc = 0\n",
    "for i in range(sim_size):\n",
    "    if e_rand_gc[i] <= c_rand_gc[i]:\n",
    "        e_grc_small_gc += 1\n",
    "    else:      \n",
    "        c_gcr_small_gc += 1\n",
    "likelihood = e_grc_small_gc*100 / sim_size\n",
    "\n",
    "\n",
    "print(f\"Base on a simulation of {sim_size} samples,\")\n",
    "print(f\"the likelihood that the Experiment group underperforms the Control group in GCR is {likelihood:.3}%\")\n"
   ]
  },
  {
   "cell_type": "code",
   "execution_count": 22,
   "metadata": {
    "collapsed": false
   },
   "outputs": [
    {
     "name": "stdout",
     "output_type": "stream",
     "text": [
      "Base on a simulation of 10000 samples,\n",
      "the likelihood that the Experiment group underperforms the Control group in GCR by at least 3% is 79.7%\n"
     ]
    }
   ],
   "source": [
    "# Experiment < Control by k percentage\n",
    "c_gcr_small_gc = 0\n",
    "e_grc_small_gc = 0\n",
    "diffs_gc = np.zeros(sim_size)\n",
    "percentage = 0.03\n",
    "\n",
    "for i in range(sim_size):\n",
    "    diffs_gc[i] = c_rand_gc[i] - e_rand_gc[i]\n",
    "    if  e_rand_gc[i] + percentage <= c_rand_gc[i]:\n",
    "        e_grc_small_gc += 1\n",
    "    else:      \n",
    "        c_gcr_small_gc += 1\n",
    "likelihood = e_grc_small_gc*100 / sim_size\n",
    "        \n",
    "print(f\"Base on a simulation of {sim_size} samples,\")\n",
    "print(f\"the likelihood that the Experiment group underperforms the Control group in GCR by at least {int(percentage*100)}% is {likelihood:.3}%\")\n"
   ]
  },
  {
   "cell_type": "markdown",
   "metadata": {},
   "source": [
    "<img src=\"image/enrollmenttable.png\">\n"
   ]
  },
  {
   "cell_type": "markdown",
   "metadata": {},
   "source": [
    "# Net Coversion\n",
    "\n",
    "net conversion = payment/click"
   ]
  },
  {
   "cell_type": "code",
   "execution_count": 23,
   "metadata": {
    "collapsed": true
   },
   "outputs": [],
   "source": [
    "control_payment = control.Payments\n",
    "control_nopayment = control.Clicks - control.Payments\n",
    "experiment_payment = experiment.Payments\n",
    "experiment_nopayment = experiment.Clicks - experiment.Payments"
   ]
  },
  {
   "cell_type": "markdown",
   "metadata": {},
   "source": [
    "## Prior Distribution"
   ]
  },
  {
   "cell_type": "code",
   "execution_count": 24,
   "metadata": {
    "collapsed": false,
    "scrolled": true
   },
   "outputs": [
    {
     "name": "stdout",
     "output_type": "stream",
     "text": [
      "Prior Control Net Conversion Rate: 0.102\n",
      "Prior Experiment Net Conversion Rate: 0.0496\n"
     ]
    }
   ],
   "source": [
    "print(f'Prior Control Net Conversion Rate: {(control_payment[0]/control_click[0]):.3}')\n",
    "print(f'Prior Experiment Net Conversion Rate: {(experiment_payment[0]/experiment_click[0]):.3}')"
   ]
  },
  {
   "cell_type": "code",
   "execution_count": 25,
   "metadata": {},
   "outputs": [],
   "source": [
    "## Get prior distribution\n",
    "c_distribution_nc_prior = stats.beta.pdf(x, control_payment[0], control_nopayment[0])\n",
    "e_distribution_nc_prior  = stats.beta.pdf(x, experiment_payment[0], experiment_nopayment[0])"
   ]
  },
  {
   "cell_type": "code",
   "execution_count": 26,
   "metadata": {},
   "outputs": [
    {
     "data": {
      "text/plain": [
       "<Figure size 432x288 with 0 Axes>"
      ]
     },
     "metadata": {},
     "output_type": "display_data"
    },
    {
     "data": {
      "image/png": "[encoded data removed]",
      "text/plain": [
       "<Figure size 1080x360 with 1 Axes>"
      ]
     },
     "metadata": {
      "needs_background": "light"
     },
     "output_type": "display_data"
    }
   ],
   "source": [
    "plt.figure(2)\n",
    "plt.figure(figsize=(15,5))\n",
    "plot_with_fill(x, c_distribution_nc_prior, 'Control Group')\n",
    "plot_with_fill(x, e_distribution_nc_prior, 'Experiment Group')\n",
    "plt.xlim(xmax=0.15)\n",
    "plt.xlim(xmin=0.01)\n",
    "plt.xlabel('Net Conversion Rate Prior')\n",
    "plt.ylabel('Density')\n",
    "plt.legend()\n",
    "plt.show()"
   ]
  },
  {
   "cell_type": "markdown",
   "metadata": {},
   "source": [
    "## Posterior Distribution"
   ]
  },
  {
   "cell_type": "code",
   "execution_count": 27,
   "metadata": {
    "collapsed": false
   },
   "outputs": [],
   "source": [
    "c_pos_alpha_nc, c_posterior_beta_nc, e_pos_alpha_nc, e_posterior_beta_nc = posterior_distribution(control_payment,control_nopayment,experiment_payment,experiment_nopayment)\n",
    "c_distribution_nc_posterior = stats.beta.pdf(x, c_pos_alpha_nc, c_posterior_beta_nc)\n",
    "e_distribution_nc_posterior  = stats.beta.pdf(x, e_pos_alpha_nc, e_posterior_beta_nc)"
   ]
  },
  {
   "cell_type": "code",
   "execution_count": 28,
   "metadata": {
    "collapsed": false,
    "scrolled": true
   },
   "outputs": [
    {
     "data": {
      "text/plain": [
       "<Figure size 432x288 with 0 Axes>"
      ]
     },
     "metadata": {},
     "output_type": "display_data"
    },
    {
     "data": {
      "image/png": "[encoded data removed]",
      "text/plain": [
       "<Figure size 1080x360 with 1 Axes>"
      ]
     },
     "metadata": {
      "needs_background": "light"
     },
     "output_type": "display_data"
    }
   ],
   "source": [
    "plt.figure(2)\n",
    "plt.figure(figsize=(15,5))\n",
    "plot_with_fill(x, c_distribution_nc_posterior, 'Control Group')\n",
    "plot_with_fill(x, e_distribution_nc_posterior, 'Experiment Group')\n",
    "plt.xlim(xmax=0.15)\n",
    "plt.xlim(xmin = 0.01)\n",
    "plt.xlabel('Net Conversion Rate')\n",
    "plt.ylabel('Density')\n",
    "plt.legend()\n",
    "plt.show()"
   ]
  },
  {
   "cell_type": "markdown",
   "metadata": {},
   "source": [
    "## Simulations"
   ]
  },
  {
   "cell_type": "code",
   "execution_count": 29,
   "metadata": {},
   "outputs": [],
   "source": [
    "# generate random samples from each distribution\n",
    "sim_size = 10000\n",
    "c_rand_ncr = np.random.beta(c_pos_alpha_nc, c_posterior_beta_nc, sim_size)\n",
    "e_rand_ncr = np.random.beta(e_pos_alpha_nc, e_posterior_beta_nc, sim_size)"
   ]
  },
  {
   "cell_type": "markdown",
   "metadata": {},
   "source": [
    "### Experiment > Control"
   ]
  },
  {
   "cell_type": "code",
   "execution_count": 30,
   "metadata": {
    "collapsed": false
   },
   "outputs": [
    {
     "name": "stdout",
     "output_type": "stream",
     "text": [
      "Base on a simulation of 10000 samples,\n",
      "the likelihood that the Experiment group outperforms the Control group in NCR is 15.7%\n"
     ]
    }
   ],
   "source": [
    "# Experiment > Control \n",
    "\n",
    "# Net Conversion Rate\n",
    "c_ncr_large = 0\n",
    "e_ncr_large = 0\n",
    "for i in range(sim_size):\n",
    "    if e_rand_ncr[i] >= c_rand_ncr[i]:\n",
    "        e_ncr_large += 1\n",
    "    else:      \n",
    "        c_ncr_large += 1\n",
    "likelihood = e_ncr_large*100 / sim_size\n",
    "\n",
    "print(f\"Base on a simulation of {sim_size} samples,\")\n",
    "print(f\"the likelihood that the Experiment group outperforms the Control group in NCR is {likelihood:.3}%\")\n"
   ]
  },
  {
   "cell_type": "code",
   "execution_count": 31,
   "metadata": {},
   "outputs": [
    {
     "name": "stdout",
     "output_type": "stream",
     "text": [
      "Base on a simulation of 10000 samples,\n",
      "the likelihood that the Experiment group outperforms the Control group in NCR by at least 1% is 2.52%\n"
     ]
    }
   ],
   "source": [
    "# Experiment > Control by k percentage\n",
    "\n",
    "# Net Conversion Rate\n",
    "c_ncr_large = 0\n",
    "e_ncr_large = 0\n",
    "percentage = 0.01\n",
    "\n",
    "for i in range(sim_size):\n",
    "    if e_rand_ncr[i] - percentage >= c_rand_ncr[i]:\n",
    "        e_ncr_large += 1\n",
    "    else:      \n",
    "        c_ncr_large += 1\n",
    "likelihood = e_ncr_large*100 / sim_size\n",
    "\n",
    "print(f\"Base on a simulation of {sim_size} samples,\")\n",
    "print(f\"the likelihood that the Experiment group outperforms the Control group in NCR by at least {int(percentage*100)}% is {likelihood:.3}%\")\n"
   ]
  },
  {
   "cell_type": "markdown",
   "metadata": {},
   "source": [
    "### Experiment < Control"
   ]
  },
  {
   "cell_type": "code",
   "execution_count": 32,
   "metadata": {},
   "outputs": [
    {
     "name": "stdout",
     "output_type": "stream",
     "text": [
      "Base on a simulation of 10000 samples,\n",
      "the likelihood that the Experiment group outperforms the Control group in NCR is 84.3%\n"
     ]
    }
   ],
   "source": [
    "# Experiment < Control \n",
    "\n",
    "# Net Conversion Rate\n",
    "c_ncr_large = 0\n",
    "e_ncr_large = 0\n",
    "for i in range(sim_size):\n",
    "    if e_rand_ncr[i] <= c_rand_ncr[i]:\n",
    "        e_ncr_large += 1\n",
    "    else:      \n",
    "        c_ncr_large += 1\n",
    "\n",
    "likelihood = e_ncr_large*100 / sim_size\n",
    "\n",
    "print(f\"Base on a simulation of {sim_size} samples,\")\n",
    "print(f\"the likelihood that the Experiment group outperforms the Control group in NCR is {likelihood:.3}%\")\n"
   ]
  },
  {
   "cell_type": "code",
   "execution_count": 33,
   "metadata": {},
   "outputs": [
    {
     "name": "stdout",
     "output_type": "stream",
     "text": [
      "Base on a simulation of 10000 samples,\n",
      "the likelihood that the Experiment group outperforms the Control group in NCR by at least 3% is 96.8%\n"
     ]
    }
   ],
   "source": [
    "# Experiment < Control by k percentage\n",
    "\n",
    "# Net Conversion Rate\n",
    "c_ncr_large = 0\n",
    "e_ncr_large = 0\n",
    "percentage = 0.03\n",
    "\n",
    "for i in range(sim_size):\n",
    "    if e_rand_ncr[i] + percentage >= c_rand_ncr[i]:\n",
    "        e_ncr_large += 1\n",
    "    else:      \n",
    "        c_ncr_large += 1\n",
    "likelihood = e_ncr_large*100 / sim_size\n",
    "\n",
    "print(f\"Base on a simulation of {sim_size} samples,\")\n",
    "print(f\"the likelihood that the Experiment group outperforms the Control group in NCR by at least {int(percentage*100)}% is {likelihood:.3}%\")\n",
    "\n"
   ]
  },
  {
   "cell_type": "markdown",
   "metadata": {
    "collapsed": true
   },
   "source": [
    "<img src=\"image/conversionratetable.png\">\n"
   ]
  },
  {
   "cell_type": "markdown",
   "metadata": {},
   "source": [
    "## Conclusion\n",
    "\n",
    "Udacity has 99% & 84% chance respectively to the gross conversion rate and the net conversion rate that the expriment group performs worse than the control group. It's best to not launch the experiment. \n",
    "\n",
    "Bayesian A/B Testing allows Udacity to know the confidence of the result as well as the cost/benefits associated with each option. "
   ]
  }
 ],
 "metadata": {
  "interpreter": {
   "hash": "54f1f1dfdb3a4926ad466fd7a8517819ad48dd9e58dfe7700d71f4d91a0df6c0"
  },
  "kernelspec": {
   "display_name": "Python 3.8.5 64-bit ('base': conda)",
   "name": "python3"
  },
  "language_info": {
   "codemirror_mode": {
    "name": "ipython",
    "version": 3
   },
   "file_extension": ".py",
   "mimetype": "text/x-python",
   "name": "python",
   "nbconvert_exporter": "python",
   "pygments_lexer": "ipython3",
   "version": "3.8.5"
  }
 },
 "nbformat": 4,
 "nbformat_minor": 2
}