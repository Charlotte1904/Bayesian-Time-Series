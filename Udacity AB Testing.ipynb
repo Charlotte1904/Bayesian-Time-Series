{
 "cells": [
  {
   "cell_type": "markdown",
   "metadata": {},
   "source": [
    "# Experiment Overview: Free Trial Screener\n",
    "In the experiment, Udacity tested a change where if the student clicked \"start free trial\", they were asked how much time they had available to devote to the course. If the student indicated 5 or more hours per week, they would be taken through the checkout process as usual. If they indicated fewer than 5 hours per week, a message would appear indicating that Udacity courses usually require a greater time commitment for successful completion, and suggesting that the student might like to access the course materials for free. At this point, the student would have the option to continue enrolling in the free trial, or access the course materials for free instead. This screenshot shows what the experiment looks like.\n",
    "\n",
    "**The hypothesis** was that this might set clearer expectations for students upfront **thus reducing the number of frustrated students** who left the free trial because they didn't have enough time—**without significantly reducing the number of students to continue past the free trial and eventually complete the course**.\n",
    "\n"
   ]
  },
  {
   "cell_type": "markdown",
   "metadata": {},
   "source": [
    "\n",
    "### Evaluation Metrics\n",
    "\n",
    "**Enrollment Rate:** That is, number of user-ids to complete checkout and enroll in the free trial divided by number of unique cookies to click the \"Start free trial\" button. (dmin= 0.01)\n",
    "\n",
    "**Retention:** That is, number of user-ids to remain enrolled past the 14-day boundary (and thus make at least one payment) divided by number of user-ids to complete checkout. (dmin=0.01)\n",
    "\n",
    "**Conversion Rate:** That is, number of user-ids to remain enrolled past the 14-day boundary (and thus make at least one payment) divided by the number of unique cookies to click the \"Start free trial\" button. (dmin= 0.0075)"
   ]
  },
  {
   "cell_type": "markdown",
   "metadata": {},
   "source": [
    "## The goals of the experiment in the practical meaning:\n",
    " \n",
    "- Reduce number of enrollments that eventually fall out after 2 weeks of free trial \n",
    "\n",
    "- Retain or imcrease the number of payments\n",
    "\n",
    "## The goals of the experiment in terms of our metrics:\n",
    "\n",
    "- the Enrollment rate should decrease\n",
    "\n",
    "- the net conversion should not decrease."
   ]
  },
  {
   "cell_type": "code",
   "execution_count": 1,
   "metadata": {
    "collapsed": false
   },
   "outputs": [],
   "source": [
    "reset -sf"
   ]
  },
  {
   "cell_type": "code",
   "execution_count": 2,
   "metadata": {
    "collapsed": false
   },
   "outputs": [
    {
     "name": "stdout",
     "output_type": "stream",
     "text": [
      "Populating the interactive namespace from numpy and matplotlib\n"
     ]
    },
    {
     "name": "stderr",
     "output_type": "stream",
     "text": [
      "/Users/Charlotte/anaconda/envs/stats/lib/python3.6/site-packages/IPython/core/magics/pylab.py:160: UserWarning: pylab import has clobbered these variables: ['beta']\n",
      "`%matplotlib` prevents importing * from pylab and numpy\n",
      "  \"\\n`%matplotlib` prevents importing * from pylab and numpy\"\n"
     ]
    }
   ],
   "source": [
    "import numpy as np\n",
    "import pandas as pd\n",
    "from scipy import stats\n",
    "from scipy.stats import beta\n",
    "import seaborn as sns\n",
    "%pylab inline"
   ]
  },
  {
   "cell_type": "code",
   "execution_count": 3,
   "metadata": {
    "collapsed": false
   },
   "outputs": [],
   "source": [
    "control = pd.read_excel(open('data/data.xlsx','rb'), sheetname='Control')\n",
    "control = control.fillna(0)\n",
    "experiment = pd.read_excel(open('data/data.xlsx','rb'), sheetname='Experiment')\n",
    "experiment = experiment.fillna(0)"
   ]
  },
  {
   "cell_type": "markdown",
   "metadata": {},
   "source": [
    "# Frequentist - A/B Testing"
   ]
  },
  {
   "cell_type": "markdown",
   "metadata": {},
   "source": [
    "### 1. Sample Size"
   ]
  },
  {
   "cell_type": "markdown",
   "metadata": {},
   "source": [
    " <img src=\"image/samplesize0.png\">\n"
   ]
  },
  {
   "cell_type": "markdown",
   "metadata": {},
   "source": [
    " <img src=\"image/size.png\">\n"
   ]
  },
  {
   "cell_type": "markdown",
   "metadata": {},
   "source": [
    "# Retention Rate takes too long to test - eliminate from evaluation metrics"
   ]
  },
  {
   "cell_type": "markdown",
   "metadata": {},
   "source": [
    "### 2. Sanity Checks"
   ]
  },
  {
   "cell_type": "markdown",
   "metadata": {
    "collapsed": true
   },
   "source": [
    "<img src=\"image/sanitycheck.png\">\n"
   ]
  },
  {
   "cell_type": "code",
   "execution_count": 4,
   "metadata": {
    "collapsed": false
   },
   "outputs": [],
   "source": [
    "def sanity_check(c,e):\n",
    "    #c : control value \n",
    "    #e: experiment value\n",
    "    marginal_er = 1.96* np.sqrt(0.5*0.5/(c+e)) \n",
    "    c_lci = 0.5 - marginal_er\n",
    "    c_uci = 0.5 + marginal_er\n",
    "    obs_value = c/(c+e)\n",
    "    assert c_lci < obs_value < c_uci\n",
    "    return passed()\n",
    "def passed(): print('✅')"
   ]
  },
  {
   "cell_type": "markdown",
   "metadata": {},
   "source": [
    "- #### Number of Cookies"
   ]
  },
  {
   "cell_type": "code",
   "execution_count": 5,
   "metadata": {
    "collapsed": false,
    "scrolled": true
   },
   "outputs": [
    {
     "name": "stdout",
     "output_type": "stream",
     "text": [
      "✅\n"
     ]
    }
   ],
   "source": [
    "sanity_check(control.Pageviews.sum(),experiment.Pageviews.sum())"
   ]
  },
  {
   "cell_type": "markdown",
   "metadata": {},
   "source": [
    "- #### Number of Clicks"
   ]
  },
  {
   "cell_type": "code",
   "execution_count": 6,
   "metadata": {
    "collapsed": false,
    "scrolled": true
   },
   "outputs": [
    {
     "name": "stdout",
     "output_type": "stream",
     "text": [
      "✅\n"
     ]
    }
   ],
   "source": [
    "sanity_check(control.Clicks.sum(),experiment.Clicks.sum())"
   ]
  },
  {
   "cell_type": "markdown",
   "metadata": {},
   "source": [
    "### 3. Check for Practical and Statistical Significance"
   ]
  },
  {
   "cell_type": "markdown",
   "metadata": {
    "collapsed": true
   },
   "source": [
    "<img src=\"image/practicalsignificance.png\">\n"
   ]
  },
  {
   "cell_type": "code",
   "execution_count": 7,
   "metadata": {
    "collapsed": false
   },
   "outputs": [],
   "source": [
    "def pratical_significance(c_x,c_n,e_x,e_n,dmin):\n",
    "    c_p, e_p = c_x/c_n, e_x/e_n\n",
    "    pooled_prob = (c_x+e_x)/(c_n+e_n)\n",
    "    margin_error = 1.96*(np.sqrt(((c_p*(1-c_p))/c_n)+((e_p*(1-e_p))/e_n)))\n",
    "    lci = (c_p-e_p) - margin_error\n",
    "    uci = (c_p-e_p) + margin_error\n",
    "    print(f'{(lci):.2} - {uci:.2}')\n",
    "    assert(lci<dmin<uci)\n",
    "    passed()"
   ]
  },
  {
   "cell_type": "markdown",
   "metadata": {},
   "source": [
    "- #### Gross conversion\n",
    "\n",
    "> statistically significant "
   ]
  },
  {
   "cell_type": "code",
   "execution_count": 8,
   "metadata": {
    "collapsed": false,
    "scrolled": false
   },
   "outputs": [
    {
     "name": "stdout",
     "output_type": "stream",
     "text": [
      "0.007 - 0.018\n",
      "✅\n"
     ]
    }
   ],
   "source": [
    "pratical_significance(control.Enrollments.sum(),control.Clicks.sum(),experiment.Enrollments.sum(),\n",
    "                      experiment.Clicks.sum(),0.01)"
   ]
  },
  {
   "cell_type": "markdown",
   "metadata": {},
   "source": [
    "- #### Net Conversion"
   ]
  },
  {
   "cell_type": "markdown",
   "metadata": {},
   "source": [
    "> not statistically significant"
   ]
  },
  {
   "cell_type": "code",
   "execution_count": 9,
   "metadata": {
    "collapsed": false
   },
   "outputs": [
    {
     "name": "stdout",
     "output_type": "stream",
     "text": [
      "-0.0012 - 0.0072\n"
     ]
    },
    {
     "ename": "AssertionError",
     "evalue": "",
     "output_type": "error",
     "traceback": [
      "\u001b[0;31m---------------------------------------------------------------------------\u001b[0m",
      "\u001b[0;31mAssertionError\u001b[0m                            Traceback (most recent call last)",
      "\u001b[0;32m<ipython-input-9-7201e9b1ba28>\u001b[0m in \u001b[0;36m<module>\u001b[0;34m()\u001b[0m\n\u001b[1;32m      1\u001b[0m pratical_significance(control.Payments.sum(),control.Clicks.sum(),experiment.Payments\n\u001b[0;32m----> 2\u001b[0;31m                       .sum(),experiment.Clicks.sum(), 0.0075)\n\u001b[0m",
      "\u001b[0;32m<ipython-input-7-147e5b75f8bd>\u001b[0m in \u001b[0;36mpratical_significance\u001b[0;34m(c_x, c_n, e_x, e_n, dmin)\u001b[0m\n\u001b[1;32m      6\u001b[0m     \u001b[0muci\u001b[0m \u001b[0;34m=\u001b[0m \u001b[0;34m(\u001b[0m\u001b[0mc_p\u001b[0m\u001b[0;34m-\u001b[0m\u001b[0me_p\u001b[0m\u001b[0;34m)\u001b[0m \u001b[0;34m+\u001b[0m \u001b[0mmargin_error\u001b[0m\u001b[0;34m\u001b[0m\u001b[0m\n\u001b[1;32m      7\u001b[0m     \u001b[0mprint\u001b[0m\u001b[0;34m(\u001b[0m\u001b[0;34mf'{(lci):.2} - {uci:.2}'\u001b[0m\u001b[0;34m)\u001b[0m\u001b[0;34m\u001b[0m\u001b[0m\n\u001b[0;32m----> 8\u001b[0;31m     \u001b[0;32massert\u001b[0m\u001b[0;34m(\u001b[0m\u001b[0mlci\u001b[0m\u001b[0;34m<\u001b[0m\u001b[0mdmin\u001b[0m\u001b[0;34m<\u001b[0m\u001b[0muci\u001b[0m\u001b[0;34m)\u001b[0m\u001b[0;34m\u001b[0m\u001b[0m\n\u001b[0m\u001b[1;32m      9\u001b[0m     \u001b[0mpassed\u001b[0m\u001b[0;34m(\u001b[0m\u001b[0;34m)\u001b[0m\u001b[0;34m\u001b[0m\u001b[0m\n",
      "\u001b[0;31mAssertionError\u001b[0m: "
     ]
    }
   ],
   "source": [
    "pratical_significance(control.Payments.sum(),control.Clicks.sum(),experiment.Payments\n",
    "                      .sum(),experiment.Clicks.sum(), 0.0075)"
   ]
  },
  {
   "cell_type": "markdown",
   "metadata": {},
   "source": [
    "### 4. Conclusion"
   ]
  },
  {
   "cell_type": "markdown",
   "metadata": {},
   "source": [
    "\n",
    "\n",
    "I recommend not to launch this experiment.\n",
    "\n",
    "The hypothesis was that this might set clearer expectations for students upfront, thus reducing the number of frustrated students who left the free trial because they didn't have enough time — without significantly reducing the number of students to continue past the free trial and eventually complete the course.\n",
    "\n",
    "- First, based on effect size test and sign test, the enrollment rate in experiment group is significantly and practically lower than control group. In another word, the number of students who choose to enroll in free trial indeed decreases due to the warning, which aligns with what null hypothesis expects to happen.\n",
    "\n",
    "- Then, since net conversion rate is not statistically significant, the number of students who eventually pass the free trial and make a payment is not different among experiment and control group, which is also stated in the null hypothesis. At this point, we can conclude that the hypothesis is correct. However, the lower bound of confidence interval is actually lower than lower bound of practical significance level, indicating this change might bring negative impact and we shoulb be cautious about this result. I highly suggest that we need more investigation to this before launching this change. So, at this point, it's better to not launch this change.\n",
    "\n"
   ]
  },
  {
   "cell_type": "markdown",
   "metadata": {},
   "source": [
    "# Bayesian A/B Testing"
   ]
  },
  {
   "cell_type": "code",
   "execution_count": null,
   "metadata": {
    "collapsed": false
   },
   "outputs": [],
   "source": [
    "def posterior_distribution(control_alpha,control_beta,experiment_alpha, experiment_beta):\n",
    "    #x: probability/rate\n",
    "    #y: probability density function\n",
    "    \n",
    "    #updating posterior distribution\n",
    "    i = 0\n",
    "    if i != len(control):\n",
    "        c_pos_alpha, c_posterior_beta = control_alpha[i] + control_alpha[i+1], control_beta[i] + control_beta[i+1]\n",
    "        e_pos_alpha, e_posterior_beta = experiment_alpha[i] + experiment_alpha[i+1], experiment_beta[i] + experiment_beta[i+1]\n",
    "        i+=1\n",
    "    return c_pos_alpha,c_posterior_beta,e_pos_alpha,e_posterior_beta\n",
    " \n",
    "x = x = np.linspace(0., 1, 1000) #random probability\n"
   ]
  },
  {
   "cell_type": "code",
   "execution_count": null,
   "metadata": {
    "collapsed": true
   },
   "outputs": [],
   "source": [
    "def plot_with_fill(x, y, label):\n",
    "    #x: probability/rate\n",
    "    #y: probability density function\n",
    "    lines = plt.plot(x, y, label=label, lw=2)\n",
    "    plt.fill_between(x, 0, y, alpha=0.2, color=lines[0].get_c())"
   ]
  },
  {
   "cell_type": "markdown",
   "metadata": {},
   "source": [
    "# Gross Conversion\n",
    "\n",
    ">grossconversion = enroll/click"
   ]
  },
  {
   "cell_type": "code",
   "execution_count": null,
   "metadata": {
    "collapsed": true
   },
   "outputs": [],
   "source": [
    "control_enrollment = control.Enrollments\n",
    "control_noenrollment = control.Clicks - control.Enrollments\n",
    "control_click = control.Clicks\n",
    "\n",
    "experiment_enrollment = experiment.Enrollments\n",
    "experiment_noenrollment = experiment.Clicks - experiment.Enrollments\n",
    "experiment_click = experiment.Clicks"
   ]
  },
  {
   "cell_type": "markdown",
   "metadata": {},
   "source": [
    "> ## Checkpoint"
   ]
  },
  {
   "cell_type": "code",
   "execution_count": null,
   "metadata": {
    "collapsed": false
   },
   "outputs": [],
   "source": [
    "print('---------------')\n",
    "print(f'Prior Control Gross Conversion Rate: {(control_enrollment[0]/control_click[0]):.3}')\n",
    "print(f'Prior Experiment Gross Conversion Rate: {(experiment_enrollment[0]/experiment_click[0]):.3}')\n",
    "print('---------------')\n"
   ]
  },
  {
   "cell_type": "code",
   "execution_count": null,
   "metadata": {
    "collapsed": false
   },
   "outputs": [],
   "source": [
    "c_pos_alpha_gc ,c_posterior_beta_gc,e_pos_alpha_gc,e_posterior_beta_gc = posterior_distribution(control_enrollment,control_noenrollment,experiment_enrollment,experiment_noenrollment)\n",
    "c_distribution_gc = stats.beta.pdf(x, c_pos_alpha_gc, c_posterior_beta_gc)\n",
    "e_distribution_gc  = stats.beta.pdf(x, e_pos_alpha_gc, e_posterior_beta_gc)"
   ]
  },
  {
   "cell_type": "code",
   "execution_count": null,
   "metadata": {
    "collapsed": false,
    "scrolled": false
   },
   "outputs": [],
   "source": [
    "plt.figure(2)\n",
    "plt.figure(figsize=(15,5))\n",
    "plot_with_fill(x, c_distribution_gc , 'Control Group')\n",
    "plot_with_fill(x, e_distribution_gc , 'Experiment Group')\n",
    "plt.xlim(xmax=0.3)\n",
    "plt.xlim(xmin = 0.1)\n",
    "plt.xlabel('Gross Conversion')\n",
    "plt.ylabel('Density')\n",
    "plt.legend()\n",
    "plt.show()"
   ]
  },
  {
   "cell_type": "code",
   "execution_count": null,
   "metadata": {
    "collapsed": false,
    "scrolled": true
   },
   "outputs": [],
   "source": [
    "# generate random samples from each distribution\n",
    "sim_size = 10000\n",
    "c_rand_gc = np.random.beta(c_pos_alpha_gc, c_posterior_beta_gc, sim_size)\n",
    "e_rand_gc = np.random.beta(e_pos_alpha_gc, e_posterior_beta_gc, sim_size)\n",
    "\n",
    "# Gross Conversion Rate\n",
    "c_gcr_small_gc = 0\n",
    "e_grc_small_gc = 0\n",
    "for i in range(sim_size):\n",
    "    if e_rand_gc[i] <=c_rand_gc[i]:\n",
    "        e_grc_small_gc += 1\n",
    "    else:      \n",
    "        c_gcr_small_gc += 1\n",
    "\n",
    "print(f'Likelihood Gross Conversion Rate in Experiment Group is lower than the Gross Conversation Rate in Control Group based on a simulation of {sim_size} samples: {(e_grc_small_gc*100 / sim_size):.3}%')\n"
   ]
  },
  {
   "cell_type": "code",
   "execution_count": null,
   "metadata": {
    "collapsed": false
   },
   "outputs": [],
   "source": [
    "# compute whether experiment group has is 1% lower GCR than control group\n",
    "c_gcr_small_gc = 0\n",
    "e_grc_small_gc = 0\n",
    "diffs_gc = np.zeros(sim_size)\n",
    "for i in range(sim_size):\n",
    "    diffs_gc[i] = c_rand_gc[i] - e_rand_gc[i]\n",
    "    if  e_rand_gc[i] + 0.01 <= c_rand_gc[i]:\n",
    "        e_grc_small_gc += 1\n",
    "    else:      \n",
    "        c_gcr_small_gc += 1\n",
    "        \n",
    "        \n",
    "print(f'Likelihood Gross Conversion Rate in Experiment Group is at least 1% lower than the Gross Conversation Rate in Control Group based on a simulation of {sim_size} samples: {(e_grc_small_gc*100 / sim_size):.3}%')"
   ]
  },
  {
   "cell_type": "markdown",
   "metadata": {},
   "source": [
    "<img src=\"image/enrollmenttable.png\">\n"
   ]
  },
  {
   "cell_type": "markdown",
   "metadata": {},
   "source": [
    "# NetCoversion\n",
    "\n",
    "netconversion = payment/click"
   ]
  },
  {
   "cell_type": "code",
   "execution_count": null,
   "metadata": {
    "collapsed": true
   },
   "outputs": [],
   "source": [
    "control_payment = control.Payments\n",
    "control_nopayment = control.Clicks - control.Payments\n",
    "experiment_payment = experiment.Payments\n",
    "experiment_nopayment = experiment.Clicks - experiment.Payments"
   ]
  },
  {
   "cell_type": "code",
   "execution_count": null,
   "metadata": {
    "collapsed": false,
    "scrolled": true
   },
   "outputs": [],
   "source": [
    "print(f'Prior Control Net Conversion Rate: {(control_payment[0]/control_click[0]):.3}')\n",
    "print(f'Prior Experiment Net Conversion Rate: {(experiment_payment[0]/experiment_click[0]):.3}')"
   ]
  },
  {
   "cell_type": "code",
   "execution_count": null,
   "metadata": {
    "collapsed": false
   },
   "outputs": [],
   "source": [
    "c_pos_alpha_nc,c_posterior_beta_nc,e_pos_alpha_nc,e_posterior_beta_nc = posterior_distribution(control_payment,control_nopayment,experiment_payment,experiment_nopayment)\n",
    "c_distribution_nc = stats.beta.pdf(x, c_pos_alpha_nc, c_posterior_beta_nc)\n",
    "e_distribution_nc  = stats.beta.pdf(x, e_pos_alpha_nc, e_posterior_beta_nc)\n",
    "\n"
   ]
  },
  {
   "cell_type": "code",
   "execution_count": null,
   "metadata": {
    "collapsed": false,
    "scrolled": true
   },
   "outputs": [],
   "source": [
    "plt.figure(2)\n",
    "plt.figure(figsize=(15,5))\n",
    "plot_with_fill(x, c_distribution_nc, 'Control Group')\n",
    "plot_with_fill(x, e_distribution_nc, 'Experiment Group')\n",
    "plt.xlim(xmax=0.15)\n",
    "plt.xlim(xmin = 0.05)\n",
    "plt.xlabel('Net Conversion Rate')\n",
    "plt.ylabel('Density')\n",
    "plt.legend()\n",
    "plt.show()"
   ]
  },
  {
   "cell_type": "code",
   "execution_count": null,
   "metadata": {
    "collapsed": false
   },
   "outputs": [],
   "source": [
    "# generate random samples from each distribution\n",
    "sim_size = 10000\n",
    "c_rand = np.random.beta(c_pos_alpha_nc, c_posterior_beta_nc, sim_size)\n",
    "e_rand = np.random.beta(e_pos_alpha_nc, e_posterior_beta_nc, sim_size)\n",
    "\n",
    "# Net Conversion Rate\n",
    "c_ncr_large = 0\n",
    "e_ncr_large = 0\n",
    "for i in range(sim_size):\n",
    "    if e_rand[i] >= c_rand[i]:\n",
    "        e_ncr_large += 1\n",
    "    else:      \n",
    "        c_ncr_large += 1\n",
    "\n",
    "print(f'Likelihood Net Conversion Rate in Experiment Group is larger than the Net Conversion Rate in Control Group based on a simulation of {sim_size} samples: {(e_ncr_large *100/ sim_size):.3}%')\n"
   ]
  },
  {
   "cell_type": "code",
   "execution_count": null,
   "metadata": {
    "collapsed": false
   },
   "outputs": [],
   "source": [
    "# compute whether the NCR in experiment group 0.0075 greater than NCR in control group \n",
    "sim_size = 10000\n",
    "c_rand = np.random.beta(c_pos_alpha_nc, c_posterior_beta_nc, sim_size)\n",
    "e_rand = np.random.beta(e_pos_alpha_nc, e_posterior_beta_nc, sim_size)\n",
    "\n",
    "# Net Conversion Rate\n",
    "c_ncr_large = 0\n",
    "e_ncr_large = 0\n",
    "for i in range(sim_size):\n",
    "    if e_rand[i] - 0.0075 >= c_rand[i]:\n",
    "        e_ncr_large += 1\n",
    "    else:      \n",
    "        c_ncr_large += 1\n",
    "\n",
    "print(f'Likelihood Net Conversion Rate in Experiment Group is 0.75% larger than the Net Conversion Rate in Control Group based on a simulation of {sim_size} samples: {(e_ncr_large*100/ sim_size):.3}%')\n",
    "\n",
    "\n",
    "\n"
   ]
  },
  {
   "cell_type": "markdown",
   "metadata": {
    "collapsed": true
   },
   "source": [
    "<img src=\"image/conversionratetable.png\">\n"
   ]
  }
 ],
 "metadata": {
  "kernelspec": {
   "display_name": "Python [stats]",
   "language": "python",
   "name": "Python [stats]"
  },
  "language_info": {
   "codemirror_mode": {
    "name": "ipython",
    "version": 3
   },
   "file_extension": ".py",
   "mimetype": "text/x-python",
   "name": "python",
   "nbconvert_exporter": "python",
   "pygments_lexer": "ipython3",
   "version": "3.6.1"
  }
 },
 "nbformat": 4,
 "nbformat_minor": 2
}
