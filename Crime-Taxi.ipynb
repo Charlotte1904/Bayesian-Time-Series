{
 "cells": [
  {
   "cell_type": "code",
   "execution_count": 1,
   "metadata": {
    "collapsed": false
   },
   "outputs": [],
   "source": [
    "reset -sf"
   ]
  },
  {
   "cell_type": "code",
   "execution_count": 2,
   "metadata": {
    "collapsed": false
   },
   "outputs": [
    {
     "name": "stdout",
     "output_type": "stream",
     "text": [
      "Populating the interactive namespace from numpy and matplotlib\n"
     ]
    }
   ],
   "source": [
    "import numpy as np\n",
    "import pandas as pd\n",
    "from scipy import stats\n",
    "%pylab inline"
   ]
  },
  {
   "cell_type": "code",
   "execution_count": 3,
   "metadata": {
    "collapsed": true
   },
   "outputs": [],
   "source": [
    "def posterior_distribution(alpha,beta):\n",
    "    #x: probability/rate\n",
    "    #y: probability density function\n",
    "    \n",
    "    #updating posterior distribution\n",
    "    i = 0\n",
    "    if i != len(alpha):\n",
    "        pos_alpha, pos_beta = alpha[i] + alpha[i+1], beta[i] + beta[i+1]\n",
    "        i+=1\n",
    "    return pos_alpha,pos_beta\n",
    "\n",
    "x = x = np.linspace(0., 1, 1000) #random probability\n",
    "\n",
    "def plot_with_fill(x, y, label):\n",
    "    #x: probability/rate\n",
    "    #y: probability density function\n",
    "    lines = plt.plot(x, y, label=label, lw=2)\n",
    "    plt.fill_between(x, 0, y, alpha=0.2, color=lines[0].get_c())"
   ]
  },
  {
   "cell_type": "markdown",
   "metadata": {},
   "source": [
    "# Crime Dataset"
   ]
  },
  {
   "cell_type": "code",
   "execution_count": 4,
   "metadata": {
    "collapsed": true
   },
   "outputs": [],
   "source": [
    "crime = pd.read_csv('data/crime.csv')\n",
    "crime.columns = [column.lower() for column in crime.columns]"
   ]
  },
  {
   "cell_type": "code",
   "execution_count": 5,
   "metadata": {
    "collapsed": false,
    "scrolled": false
   },
   "outputs": [
    {
     "data": {
      "text/html": [
       "<div>\n",
       "<style>\n",
       "    .dataframe thead tr:only-child th {\n",
       "        text-align: right;\n",
       "    }\n",
       "\n",
       "    .dataframe thead th {\n",
       "        text-align: left;\n",
       "    }\n",
       "\n",
       "    .dataframe tbody tr th {\n",
       "        vertical-align: top;\n",
       "    }\n",
       "</style>\n",
       "<table border=\"1\" class=\"dataframe\">\n",
       "  <thead>\n",
       "    <tr style=\"text-align: right;\">\n",
       "      <th></th>\n",
       "      <th>dates</th>\n",
       "      <th>category</th>\n",
       "      <th>descript</th>\n",
       "      <th>dayofweek</th>\n",
       "      <th>pddistrict</th>\n",
       "      <th>resolution</th>\n",
       "      <th>address</th>\n",
       "      <th>x</th>\n",
       "      <th>y</th>\n",
       "    </tr>\n",
       "  </thead>\n",
       "  <tbody>\n",
       "    <tr>\n",
       "      <th>0</th>\n",
       "      <td>2015-05-13 23:53:00</td>\n",
       "      <td>WARRANTS</td>\n",
       "      <td>WARRANT ARREST</td>\n",
       "      <td>Wednesday</td>\n",
       "      <td>NORTHERN</td>\n",
       "      <td>ARREST, BOOKED</td>\n",
       "      <td>OAK ST / LAGUNA ST</td>\n",
       "      <td>-122.425892</td>\n",
       "      <td>37.774599</td>\n",
       "    </tr>\n",
       "    <tr>\n",
       "      <th>1</th>\n",
       "      <td>2015-05-13 23:53:00</td>\n",
       "      <td>OTHER OFFENSES</td>\n",
       "      <td>TRAFFIC VIOLATION ARREST</td>\n",
       "      <td>Wednesday</td>\n",
       "      <td>NORTHERN</td>\n",
       "      <td>ARREST, BOOKED</td>\n",
       "      <td>OAK ST / LAGUNA ST</td>\n",
       "      <td>-122.425892</td>\n",
       "      <td>37.774599</td>\n",
       "    </tr>\n",
       "    <tr>\n",
       "      <th>2</th>\n",
       "      <td>2015-05-13 23:33:00</td>\n",
       "      <td>OTHER OFFENSES</td>\n",
       "      <td>TRAFFIC VIOLATION ARREST</td>\n",
       "      <td>Wednesday</td>\n",
       "      <td>NORTHERN</td>\n",
       "      <td>ARREST, BOOKED</td>\n",
       "      <td>VANNESS AV / GREENWICH ST</td>\n",
       "      <td>-122.424363</td>\n",
       "      <td>37.800414</td>\n",
       "    </tr>\n",
       "    <tr>\n",
       "      <th>3</th>\n",
       "      <td>2015-05-13 23:30:00</td>\n",
       "      <td>LARCENY/THEFT</td>\n",
       "      <td>GRAND THEFT FROM LOCKED AUTO</td>\n",
       "      <td>Wednesday</td>\n",
       "      <td>NORTHERN</td>\n",
       "      <td>NONE</td>\n",
       "      <td>1500 Block of LOMBARD ST</td>\n",
       "      <td>-122.426995</td>\n",
       "      <td>37.800873</td>\n",
       "    </tr>\n",
       "    <tr>\n",
       "      <th>4</th>\n",
       "      <td>2015-05-13 23:30:00</td>\n",
       "      <td>LARCENY/THEFT</td>\n",
       "      <td>GRAND THEFT FROM LOCKED AUTO</td>\n",
       "      <td>Wednesday</td>\n",
       "      <td>PARK</td>\n",
       "      <td>NONE</td>\n",
       "      <td>100 Block of BRODERICK ST</td>\n",
       "      <td>-122.438738</td>\n",
       "      <td>37.771541</td>\n",
       "    </tr>\n",
       "  </tbody>\n",
       "</table>\n",
       "</div>"
      ],
      "text/plain": [
       "                 dates        category                      descript  \\\n",
       "0  2015-05-13 23:53:00        WARRANTS                WARRANT ARREST   \n",
       "1  2015-05-13 23:53:00  OTHER OFFENSES      TRAFFIC VIOLATION ARREST   \n",
       "2  2015-05-13 23:33:00  OTHER OFFENSES      TRAFFIC VIOLATION ARREST   \n",
       "3  2015-05-13 23:30:00   LARCENY/THEFT  GRAND THEFT FROM LOCKED AUTO   \n",
       "4  2015-05-13 23:30:00   LARCENY/THEFT  GRAND THEFT FROM LOCKED AUTO   \n",
       "\n",
       "   dayofweek pddistrict      resolution                    address  \\\n",
       "0  Wednesday   NORTHERN  ARREST, BOOKED         OAK ST / LAGUNA ST   \n",
       "1  Wednesday   NORTHERN  ARREST, BOOKED         OAK ST / LAGUNA ST   \n",
       "2  Wednesday   NORTHERN  ARREST, BOOKED  VANNESS AV / GREENWICH ST   \n",
       "3  Wednesday   NORTHERN            NONE   1500 Block of LOMBARD ST   \n",
       "4  Wednesday       PARK            NONE  100 Block of BRODERICK ST   \n",
       "\n",
       "            x          y  \n",
       "0 -122.425892  37.774599  \n",
       "1 -122.425892  37.774599  \n",
       "2 -122.424363  37.800414  \n",
       "3 -122.426995  37.800873  \n",
       "4 -122.438738  37.771541  "
      ]
     },
     "execution_count": 5,
     "metadata": {},
     "output_type": "execute_result"
    }
   ],
   "source": [
    "crime.head(5)"
   ]
  },
  {
   "cell_type": "code",
   "execution_count": 6,
   "metadata": {
    "collapsed": false
   },
   "outputs": [
    {
     "data": {
      "text/plain": [
       "array(['NORTHERN', 'PARK', 'INGLESIDE', 'BAYVIEW', 'RICHMOND', 'CENTRAL',\n",
       "       'TARAVAL', 'TENDERLOIN', 'MISSION', 'SOUTHERN'], dtype=object)"
      ]
     },
     "execution_count": 6,
     "metadata": {},
     "output_type": "execute_result"
    }
   ],
   "source": [
    "crime.pddistrict.unique()"
   ]
  },
  {
   "cell_type": "code",
   "execution_count": 7,
   "metadata": {
    "collapsed": true
   },
   "outputs": [],
   "source": [
    "'Selected District'\n",
    "crime = crime[crime.pddistrict.isin(['RICHMOND','MISSION','BAYVIEW','TENDERLOIN'])]"
   ]
  },
  {
   "cell_type": "code",
   "execution_count": 8,
   "metadata": {
    "collapsed": false
   },
   "outputs": [
    {
     "data": {
      "text/html": [
       "<div>\n",
       "<style>\n",
       "    .dataframe thead tr:only-child th {\n",
       "        text-align: right;\n",
       "    }\n",
       "\n",
       "    .dataframe thead th {\n",
       "        text-align: left;\n",
       "    }\n",
       "\n",
       "    .dataframe tbody tr th {\n",
       "        vertical-align: top;\n",
       "    }\n",
       "</style>\n",
       "<table border=\"1\" class=\"dataframe\">\n",
       "  <thead>\n",
       "    <tr style=\"text-align: right;\">\n",
       "      <th></th>\n",
       "      <th>dates</th>\n",
       "      <th>category</th>\n",
       "      <th>descript</th>\n",
       "      <th>dayofweek</th>\n",
       "      <th>pddistrict</th>\n",
       "      <th>resolution</th>\n",
       "      <th>address</th>\n",
       "      <th>x</th>\n",
       "      <th>y</th>\n",
       "    </tr>\n",
       "  </thead>\n",
       "  <tbody>\n",
       "    <tr>\n",
       "      <th>878043</th>\n",
       "      <td>2003-01-06 00:20:00</td>\n",
       "      <td>OTHER OFFENSES</td>\n",
       "      <td>PAROLE VIOLATION</td>\n",
       "      <td>Monday</td>\n",
       "      <td>BAYVIEW</td>\n",
       "      <td>ARREST, BOOKED</td>\n",
       "      <td>1500 Block of SHAFTER AV</td>\n",
       "      <td>-122.389769</td>\n",
       "      <td>37.730564</td>\n",
       "    </tr>\n",
       "    <tr>\n",
       "      <th>878048</th>\n",
       "      <td>2003-01-06 00:01:00</td>\n",
       "      <td>FORGERY/COUNTERFEITING</td>\n",
       "      <td>CHECKS, FORGERY (FELONY)</td>\n",
       "      <td>Monday</td>\n",
       "      <td>BAYVIEW</td>\n",
       "      <td>NONE</td>\n",
       "      <td>1800 Block of NEWCOMB AV</td>\n",
       "      <td>-122.394926</td>\n",
       "      <td>37.738212</td>\n",
       "    </tr>\n",
       "  </tbody>\n",
       "</table>\n",
       "</div>"
      ],
      "text/plain": [
       "                      dates                category                  descript  \\\n",
       "878043  2003-01-06 00:20:00          OTHER OFFENSES          PAROLE VIOLATION   \n",
       "878048  2003-01-06 00:01:00  FORGERY/COUNTERFEITING  CHECKS, FORGERY (FELONY)   \n",
       "\n",
       "       dayofweek pddistrict      resolution                   address  \\\n",
       "878043    Monday    BAYVIEW  ARREST, BOOKED  1500 Block of SHAFTER AV   \n",
       "878048    Monday    BAYVIEW            NONE  1800 Block of NEWCOMB AV   \n",
       "\n",
       "                 x          y  \n",
       "878043 -122.389769  37.730564  \n",
       "878048 -122.394926  37.738212  "
      ]
     },
     "execution_count": 8,
     "metadata": {},
     "output_type": "execute_result"
    }
   ],
   "source": [
    "crime.tail(2)"
   ]
  },
  {
   "cell_type": "code",
   "execution_count": 9,
   "metadata": {
    "collapsed": false
   },
   "outputs": [],
   "source": [
    "crimedf = pd.DataFrame()\n",
    "crimedf['datetime'] = pd.to_datetime(crime.dates)\n",
    "crimedf['date'] = crimedf.datetime.apply(lambda x: x.date())\n",
    "crimedf['id'] = crimedf.index\n",
    "crimedf['category'] = crime.category\n",
    "crimedf['district'] = crime.pddistrict\n",
    "crimedf['crimeperday'] = crimedf.groupby('date')['id'].transform('count')\n",
    "crimedf['crimeperdistrict'] = crimedf.groupby(['date','district'])['district'].transform('count')\n",
    "crimedf = crimedf.drop(['datetime','category','id'],axis = 1).reset_index(drop=True)\n",
    "crimedf = crimedf.drop_duplicates().reset_index(drop=True)"
   ]
  },
  {
   "cell_type": "code",
   "execution_count": 10,
   "metadata": {
    "collapsed": false,
    "scrolled": true
   },
   "outputs": [
    {
     "data": {
      "text/html": [
       "<div>\n",
       "<style>\n",
       "    .dataframe thead tr:only-child th {\n",
       "        text-align: right;\n",
       "    }\n",
       "\n",
       "    .dataframe thead th {\n",
       "        text-align: left;\n",
       "    }\n",
       "\n",
       "    .dataframe tbody tr th {\n",
       "        vertical-align: top;\n",
       "    }\n",
       "</style>\n",
       "<table border=\"1\" class=\"dataframe\">\n",
       "  <thead>\n",
       "    <tr style=\"text-align: right;\">\n",
       "      <th></th>\n",
       "      <th>date</th>\n",
       "      <th>district</th>\n",
       "      <th>crimeperday</th>\n",
       "      <th>crimeperdistrict</th>\n",
       "    </tr>\n",
       "  </thead>\n",
       "  <tbody>\n",
       "    <tr>\n",
       "      <th>0</th>\n",
       "      <td>2015-05-13</td>\n",
       "      <td>BAYVIEW</td>\n",
       "      <td>115</td>\n",
       "      <td>30</td>\n",
       "    </tr>\n",
       "    <tr>\n",
       "      <th>1</th>\n",
       "      <td>2015-05-13</td>\n",
       "      <td>RICHMOND</td>\n",
       "      <td>115</td>\n",
       "      <td>19</td>\n",
       "    </tr>\n",
       "  </tbody>\n",
       "</table>\n",
       "</div>"
      ],
      "text/plain": [
       "         date  district  crimeperday  crimeperdistrict\n",
       "0  2015-05-13   BAYVIEW          115                30\n",
       "1  2015-05-13  RICHMOND          115                19"
      ]
     },
     "execution_count": 10,
     "metadata": {},
     "output_type": "execute_result"
    }
   ],
   "source": [
    "crimedf.head(2)"
   ]
  },
  {
   "cell_type": "code",
   "execution_count": 11,
   "metadata": {
    "collapsed": false
   },
   "outputs": [],
   "source": [
    "bayview = crimedf[crimedf.district == 'BAYVIEW'].reset_index(drop = True)\n",
    "richmond = crimedf[crimedf.district == 'RICHMOND'].reset_index(drop = True)\n",
    "tenderloin = crimedf[crimedf.district == 'TENDERLOIN'].reset_index(drop = True)\n",
    "mission = crimedf[crimedf.district == 'MISSION'].reset_index(drop = True)"
   ]
  },
  {
   "cell_type": "code",
   "execution_count": 12,
   "metadata": {
    "collapsed": false
   },
   "outputs": [
    {
     "data": {
      "text/plain": [
       "[<matplotlib.lines.Line2D at 0x11bac47b8>]"
      ]
     },
     "execution_count": 12,
     "metadata": {},
     "output_type": "execute_result"
    },
    {
     "data": {
      "image/png": "[encoded data removed]",
      "text/plain": [
       "<matplotlib.figure.Figure at 0x11f21bf28>"
      ]
     },
     "metadata": {},
     "output_type": "display_data"
    }
   ],
   "source": [
    "mission['crimerate'] = mission['crimeperdistrict']/ mission['crimeperday']\n",
    "plt.figure(figsize = (15,5))\n",
    "plt.plot(mission['date'],mission['crimerate'])"
   ]
  },
  {
   "cell_type": "markdown",
   "metadata": {},
   "source": [
    "### Fit in Beta Distribution"
   ]
  },
  {
   "cell_type": "code",
   "execution_count": 13,
   "metadata": {
    "collapsed": false
   },
   "outputs": [],
   "source": [
    "bayview_pos_alpha,bayview_pos_beta = posterior_distribution(bayview.crimeperdistrict,(bayview.crimeperday - bayview.crimeperdistrict))\n",
    "richmond_pos_alpha,richmond_pos_beta = posterior_distribution(richmond.crimeperdistrict,(richmond.crimeperday - richmond.crimeperdistrict))\n",
    "tenderloin_pos_alpha,tenderloin_pos_beta = posterior_distribution(tenderloin.crimeperdistrict,(tenderloin.crimeperday - tenderloin.crimeperdistrict))\n",
    "mission_pos_alpha,mission_pos_beta = posterior_distribution(mission.crimeperdistrict,(mission.crimeperday - mission.crimeperdistrict))"
   ]
  },
  {
   "cell_type": "code",
   "execution_count": 14,
   "metadata": {
    "collapsed": false,
    "scrolled": true
   },
   "outputs": [
    {
     "data": {
      "image/png": "[encoded data removed]",
      "text/plain": [
       "<matplotlib.figure.Figure at 0x11bcadfd0>"
      ]
     },
     "metadata": {},
     "output_type": "display_data"
    }
   ],
   "source": [
    "# generating pdf\n",
    "bayviewpdf = stats.beta.pdf(x, bayview_pos_alpha, bayview_pos_beta )\n",
    "richmondpdf = stats.beta.pdf(x, richmond_pos_alpha, richmond_pos_beta )\n",
    "tenderloinpdf = stats.beta.pdf(x, tenderloin_pos_alpha, tenderloin_pos_beta)\n",
    "missionpdf = stats.beta.pdf(x, mission_pos_alpha, mission_pos_beta)\n",
    "\n",
    "plt.figure(5, figsize = (10,5))\n",
    "plot_with_fill(x, bayviewpdf, 'Bayview')\n",
    "plot_with_fill(x, richmondpdf, 'Richmond')\n",
    "plot_with_fill(x, tenderloinpdf, 'Tenderloin')\n",
    "plot_with_fill(x, missionpdf, 'Mission')\n",
    "# plot_with_fill(x, siteE_beta, 'ingleside')\n",
    "\n",
    "\n",
    "plt.xlim(xmax=.5)\n",
    "plt.legend()\n",
    "plt.show()"
   ]
  },
  {
   "cell_type": "markdown",
   "metadata": {},
   "source": [
    "# Calculate Expected Crime Rate"
   ]
  },
  {
   "cell_type": "code",
   "execution_count": 15,
   "metadata": {
    "collapsed": true
   },
   "outputs": [],
   "source": [
    "def get_mean(alpha,beta):\n",
    "    mean, var, skew, kurt = stats.beta.stats(alpha, beta, moments='mvsk')\n",
    "    return float(mean)"
   ]
  },
  {
   "cell_type": "code",
   "execution_count": 16,
   "metadata": {
    "collapsed": false
   },
   "outputs": [],
   "source": [
    "bayview_mean = get_mean(bayview_pos_alpha, bayview_pos_beta )\n",
    "richmond_mean = get_mean(richmond_pos_alpha, richmond_pos_beta )\n",
    "tenderloin_mean = get_mean( tenderloin_pos_alpha, tenderloin_pos_beta)\n",
    "mission_mean = get_mean(mission_pos_alpha, mission_pos_beta)"
   ]
  },
  {
   "cell_type": "code",
   "execution_count": 17,
   "metadata": {
    "collapsed": false
   },
   "outputs": [
    {
     "name": "stdout",
     "output_type": "stream",
     "text": [
      "\n",
      "\n",
      "--------Bayesian Rate--------\n",
      "Bayview 0.273 - Richmond 0.177\n",
      "Tenderloin 0.208 - Mission 0.342\n",
      "\n",
      "\n"
     ]
    }
   ],
   "source": [
    "print('\\n')\n",
    "print('--------Bayesian Rate--------')\n",
    "print(f'Bayview {(bayview_mean):.3} - Richmond {(richmond_mean):.3}')\n",
    "print(f'Tenderloin {(tenderloin_mean):.3} - Mission {(mission_mean):.3}')\n",
    "print('\\n')"
   ]
  },
  {
   "cell_type": "code",
   "execution_count": 18,
   "metadata": {
    "collapsed": true
   },
   "outputs": [],
   "source": [
    "def get_mean_dataset(df):\n",
    "    mean2015 = df.crimeperdistrict[0]/df.crimeperday[0]\n",
    "    mean2003 = df.crimeperdistrict[-1:].values/df.crimeperday[-1:].values\n",
    "    meanoverall = df.crimeperdistrict.sum()/df.crimeperday.sum()\n",
    "    print(f'Rate in 2003: {mean2003[0]:.3} - Rate in 2015: {mean2015:.3} - Overall Rate: {meanoverall:.3}')\n",
    "    #return mean2003[0], mean2015,meanoverall"
   ]
  },
  {
   "cell_type": "code",
   "execution_count": 19,
   "metadata": {
    "collapsed": false,
    "scrolled": false
   },
   "outputs": [
    {
     "name": "stdout",
     "output_type": "stream",
     "text": [
      "\n",
      "\n",
      "----Mission----\n",
      "Rate in 2003: 0.365 - Rate in 2015: 0.278 - Overall Rate: 0.356\n",
      "\n",
      "\n",
      "----Tenderloin----\n",
      "\n",
      "\n",
      "Rate in 2003: 0.188 - Rate in 2015: 0.296 - Overall Rate: 0.243\n",
      "----Richmond----\n",
      "\n",
      "\n",
      "Rate in 2003: 0.153 - Rate in 2015: 0.165 - Overall Rate: 0.134\n",
      "\n",
      "\n",
      "----Bayview----\n",
      "Rate in 2003: 0.294 - Rate in 2015: 0.261 - Overall Rate: 0.266\n",
      "\n",
      "\n"
     ]
    }
   ],
   "source": [
    "print('\\n')\n",
    "\n",
    "print('----Mission----')\n",
    "get_mean_dataset(mission)\n",
    "print('\\n')\n",
    "print('----Tenderloin----')\n",
    "print('\\n')\n",
    "get_mean_dataset(tenderloin)\n",
    "print('----Richmond----')\n",
    "print('\\n')\n",
    "get_mean_dataset(richmond)\n",
    "print('\\n')\n",
    "print('----Bayview----')\n",
    "get_mean_dataset(bayview)\n",
    "print('\\n')\n"
   ]
  },
  {
   "cell_type": "markdown",
   "metadata": {},
   "source": [
    "## Calculate Confidence Interval"
   ]
  },
  {
   "cell_type": "code",
   "execution_count": 20,
   "metadata": {
    "collapsed": false
   },
   "outputs": [
    {
     "name": "stdout",
     "output_type": "stream",
     "text": [
      "Mission Crimate Rate is: [0.29 - 0.39] with 95.0% confidence\n"
     ]
    }
   ],
   "source": [
    "confidence_level = .95\n",
    "mission_ci_lower = stats.beta.ppf(1-confidence_level, mission_pos_alpha, mission_pos_beta)\n",
    "mission_ci_upper = stats.beta.ppf(confidence_level, mission_pos_alpha, mission_pos_beta)\n",
    "\n",
    "print(f\"Mission Crimate Rate is: [{mission_ci_lower:.2} - {mission_ci_upper:.2}] with {confidence_level:.1%} confidence\")\n"
   ]
  },
  {
   "cell_type": "code",
   "execution_count": 21,
   "metadata": {
    "collapsed": false
   },
   "outputs": [
    {
     "name": "stdout",
     "output_type": "stream",
     "text": [
      "Richmond Crimate Rate is: [0.14 - 0.22] with 95.0% confidence\n"
     ]
    }
   ],
   "source": [
    "confidence_level = .95\n",
    "richmond_ci_lower = stats.beta.ppf(1-confidence_level, richmond_pos_alpha, richmond_pos_beta)\n",
    "richmond_ci_upper = stats.beta.ppf(confidence_level, richmond_pos_alpha, richmond_pos_beta)\n",
    "\n",
    "print(f\"Richmond Crimate Rate is: [{richmond_ci_lower:.2} - {richmond_ci_upper:.2}] with {confidence_level:.1%} confidence\")\n"
   ]
  },
  {
   "cell_type": "code",
   "execution_count": 22,
   "metadata": {
    "collapsed": false,
    "scrolled": true
   },
   "outputs": [
    {
     "name": "stdout",
     "output_type": "stream",
     "text": [
      "Tenderloin Crimate Rate is: [0.17 - 0.25] with 95.0% confidence\n"
     ]
    }
   ],
   "source": [
    "confidence_level = .95\n",
    "tenderloin_ci_lower = stats.beta.ppf(1-confidence_level,tenderloin_pos_alpha, tenderloin_pos_beta)\n",
    "tenderloin_ci_upper = stats.beta.ppf(confidence_level, tenderloin_pos_alpha, tenderloin_pos_beta)\n",
    "\n",
    "print(f\"Tenderloin Crimate Rate is: [{tenderloin_ci_lower:.2} - {tenderloin_ci_upper:.2}] with {confidence_level:.1%} confidence\")\n"
   ]
  },
  {
   "cell_type": "markdown",
   "metadata": {},
   "source": [
    "# Overall Stats"
   ]
  },
  {
   "cell_type": "markdown",
   "metadata": {
    "collapsed": true
   },
   "source": [
    "<img src=\"image/crimerate.png\">\n",
    "<img src=\"image/crimerate0.png\">\n"
   ]
  },
  {
   "cell_type": "markdown",
   "metadata": {},
   "source": [
    "### Overall, we can see that criminal rate in the Mission is generally decreasing overtime. However it isnt very clear with the ovearll rate. The advantage of Bayesian approach is that it weighted on recency. The most recent value will have the highest weights. It also gives out a more narror confidence interval comparing to the traditional statistical approach.\n",
    "\n",
    "### With given confidence interval, the safest day in the Mission is still much worse than the craziest day in the Tenderloin. So if you want to use the stats for either real estate investment or researching on what area to move to, the Bayesian mean and CI will be incredibly helpful"
   ]
  },
  {
   "cell_type": "markdown",
   "metadata": {
    "collapsed": true
   },
   "source": [
    "# Taxi"
   ]
  },
  {
   "cell_type": "code",
   "execution_count": 23,
   "metadata": {
    "collapsed": true
   },
   "outputs": [],
   "source": [
    "def convert_datatype(df):\n",
    "    df['pick_up_date'] = df['pick_up_date'].apply(pd.to_datetime)\n",
    "    df['number_of_trips'] = df['number_of_trips'].apply(lambda x: x.replace(',',''))\n",
    "    df['number_of_vehicles'] = df['number_of_vehicles'].apply(lambda x: x.replace('-',''))\n",
    "    df['number_of_vehicles'] = df['number_of_vehicles'].apply(lambda x: x.replace('    ','0'))\n",
    "    df[['number_of_vehicles','number_of_trips']] = df[['number_of_vehicles','number_of_trips']].apply(pd.to_numeric)\n",
    "#     df['total_trips_perday'] = df.groupby('pick_up_date')['number_of_trips'].transform('sum')\n",
    "#     df['pickuprate'] = df['number_of_vehicles'] / df['number_of_trips']\n",
    "    return df"
   ]
  },
  {
   "cell_type": "code",
   "execution_count": 24,
   "metadata": {
    "collapsed": false
   },
   "outputs": [],
   "source": [
    "df = pd.read_csv('data/other-FHV-services_jan-aug-2015.csv')\n",
    "df.columns = [column.lower().replace(' ','_') for column in df.columns]\n",
    "df = df.fillna(0)"
   ]
  },
  {
   "cell_type": "code",
   "execution_count": 25,
   "metadata": {
    "collapsed": false
   },
   "outputs": [],
   "source": [
    "df = convert_datatype(df)\n",
    "base = ['B00310','B00256','B02653','B01315','B00248']\n",
    "df = df[df.base_number.isin(base)].reset_index(drop=True)"
   ]
  },
  {
   "cell_type": "code",
   "execution_count": 26,
   "metadata": {
    "collapsed": false
   },
   "outputs": [],
   "source": [
    "df['total_trips_perday'] = df.groupby('pick_up_date')['number_of_trips'].transform('sum')\n",
    "df['pick_up_rate'] = df.number_of_trips/df.total_trips_perday"
   ]
  },
  {
   "cell_type": "code",
   "execution_count": 27,
   "metadata": {
    "collapsed": false,
    "scrolled": true
   },
   "outputs": [
    {
     "data": {
      "text/html": [
       "<div>\n",
       "<style>\n",
       "    .dataframe thead tr:only-child th {\n",
       "        text-align: right;\n",
       "    }\n",
       "\n",
       "    .dataframe thead th {\n",
       "        text-align: left;\n",
       "    }\n",
       "\n",
       "    .dataframe tbody tr th {\n",
       "        vertical-align: top;\n",
       "    }\n",
       "</style>\n",
       "<table border=\"1\" class=\"dataframe\">\n",
       "  <thead>\n",
       "    <tr style=\"text-align: right;\">\n",
       "      <th></th>\n",
       "      <th>base_number</th>\n",
       "      <th>base_name</th>\n",
       "      <th>pick_up_date</th>\n",
       "      <th>number_of_trips</th>\n",
       "      <th>number_of_vehicles</th>\n",
       "      <th>total_trips_perday</th>\n",
       "      <th>pick_up_rate</th>\n",
       "    </tr>\n",
       "  </thead>\n",
       "  <tbody>\n",
       "    <tr>\n",
       "      <th>0</th>\n",
       "      <td>B00248</td>\n",
       "      <td>YELLOWSTONE TRANSPORTATION INC.</td>\n",
       "      <td>2015-01-01</td>\n",
       "      <td>1137</td>\n",
       "      <td>106</td>\n",
       "      <td>5941</td>\n",
       "      <td>0.191382</td>\n",
       "    </tr>\n",
       "    <tr>\n",
       "      <th>1</th>\n",
       "      <td>B00310</td>\n",
       "      <td>WATSON CAR SERVICE INC.</td>\n",
       "      <td>2015-01-01</td>\n",
       "      <td>1792</td>\n",
       "      <td>119</td>\n",
       "      <td>5941</td>\n",
       "      <td>0.301633</td>\n",
       "    </tr>\n",
       "    <tr>\n",
       "      <th>2</th>\n",
       "      <td>B01315</td>\n",
       "      <td>V.I.T. CAR SERVICE, INC.</td>\n",
       "      <td>2015-01-01</td>\n",
       "      <td>1234</td>\n",
       "      <td>120</td>\n",
       "      <td>5941</td>\n",
       "      <td>0.207709</td>\n",
       "    </tr>\n",
       "    <tr>\n",
       "      <th>3</th>\n",
       "      <td>B02653</td>\n",
       "      <td>NEW COLLEGE CAR SVCE INC</td>\n",
       "      <td>2015-01-01</td>\n",
       "      <td>1778</td>\n",
       "      <td>84</td>\n",
       "      <td>5941</td>\n",
       "      <td>0.299276</td>\n",
       "    </tr>\n",
       "    <tr>\n",
       "      <th>4</th>\n",
       "      <td>B00248</td>\n",
       "      <td>YELLOWSTONE TRANSPORTATION INC.</td>\n",
       "      <td>2015-01-02</td>\n",
       "      <td>1008</td>\n",
       "      <td>129</td>\n",
       "      <td>5419</td>\n",
       "      <td>0.186012</td>\n",
       "    </tr>\n",
       "  </tbody>\n",
       "</table>\n",
       "</div>"
      ],
      "text/plain": [
       "  base_number                        base_name pick_up_date  number_of_trips  \\\n",
       "0      B00248  YELLOWSTONE TRANSPORTATION INC.   2015-01-01             1137   \n",
       "1      B00310          WATSON CAR SERVICE INC.   2015-01-01             1792   \n",
       "2      B01315         V.I.T. CAR SERVICE, INC.   2015-01-01             1234   \n",
       "3      B02653         NEW COLLEGE CAR SVCE INC   2015-01-01             1778   \n",
       "4      B00248  YELLOWSTONE TRANSPORTATION INC.   2015-01-02             1008   \n",
       "\n",
       "   number_of_vehicles  total_trips_perday  pick_up_rate  \n",
       "0                 106                5941      0.191382  \n",
       "1                 119                5941      0.301633  \n",
       "2                 120                5941      0.207709  \n",
       "3                  84                5941      0.299276  \n",
       "4                 129                5419      0.186012  "
      ]
     },
     "execution_count": 27,
     "metadata": {},
     "output_type": "execute_result"
    }
   ],
   "source": [
    "df.head(5)"
   ]
  },
  {
   "cell_type": "code",
   "execution_count": 28,
   "metadata": {
    "collapsed": true
   },
   "outputs": [],
   "source": [
    "base = ['B00310','B00256','B02653','B01315','B00248']"
   ]
  },
  {
   "cell_type": "code",
   "execution_count": 29,
   "metadata": {
    "collapsed": false
   },
   "outputs": [],
   "source": [
    "A = df[df.base_number == 'B00310'].reset_index(drop=True)\n",
    "B = df[df.base_number == 'B00256'].reset_index(drop=True)\n",
    "C = df[df.base_number == 'B02653'].reset_index(drop=True)\n",
    "D = df[df.base_number == 'B01315'].reset_index(drop=True)\n"
   ]
  },
  {
   "cell_type": "code",
   "execution_count": 30,
   "metadata": {
    "collapsed": false
   },
   "outputs": [],
   "source": [
    "A_pos_alpha,A_pos_beta = posterior_distribution(A.number_of_trips,A.total_trips_perday - A.number_of_trips)\n",
    "B_pos_alpha,B_pos_beta = posterior_distribution(B.number_of_trips,B.total_trips_perday - B.number_of_trips)\n",
    "C_pos_alpha,C_pos_beta = posterior_distribution(C.number_of_trips,C.total_trips_perday - C.number_of_trips)\n",
    "D_pos_alpha,D_pos_beta = posterior_distribution(D.number_of_trips,D.total_trips_perday - D.number_of_trips)"
   ]
  },
  {
   "cell_type": "code",
   "execution_count": 31,
   "metadata": {
    "collapsed": false
   },
   "outputs": [
    {
     "data": {
      "image/png": "[encoded data removed]",
      "text/plain": [
       "<matplotlib.figure.Figure at 0x109f696d8>"
      ]
     },
     "metadata": {},
     "output_type": "display_data"
    }
   ],
   "source": [
    "Apdf = stats.beta.pdf(x,A_pos_alpha,A_pos_beta)\n",
    "Bpdf = stats.beta.pdf(x,B_pos_alpha,B_pos_beta)\n",
    "Cpdf = stats.beta.pdf(x,C_pos_alpha,C_pos_beta)\n",
    "Dpdf = stats.beta.pdf(x,D_pos_alpha,D_pos_beta)\n",
    "\n",
    "plt.figure(4, figsize = (15,5))\n",
    "plot_with_fill(x, Apdf, 'A')\n",
    "plot_with_fill(x, Bpdf, 'B')\n",
    "plot_with_fill(x, Cpdf, 'C')\n",
    "plot_with_fill(x, Dpdf, 'D')\n",
    "\n",
    "plt.xlim(xmax=.35,xmin = 0.22)\n",
    "plt.legend()\n",
    "plt.show()"
   ]
  },
  {
   "cell_type": "markdown",
   "metadata": {
    "collapsed": true
   },
   "source": [
    "# Calculated Expected Pickup Rate"
   ]
  },
  {
   "cell_type": "code",
   "execution_count": 32,
   "metadata": {
    "collapsed": true
   },
   "outputs": [],
   "source": [
    "A_mean = get_mean(A_pos_alpha,A_pos_beta)\n",
    "B_mean = get_mean(B_pos_alpha,B_pos_beta)\n",
    "C_mean = get_mean(C_pos_alpha,C_pos_beta)\n",
    "D_mean = get_mean(D_pos_alpha,D_pos_beta)"
   ]
  },
  {
   "cell_type": "code",
   "execution_count": 33,
   "metadata": {
    "collapsed": false,
    "scrolled": false
   },
   "outputs": [
    {
     "name": "stdout",
     "output_type": "stream",
     "text": [
      "\n",
      "\n",
      "--------Bayesian Rate--------\n",
      "A_mean 0.307 - B_mean 0.266\n",
      "C_mean 0.255 - D_mean 0.249\n",
      "\n",
      "\n"
     ]
    }
   ],
   "source": [
    "print('\\n')\n",
    "print('--------Bayesian Rate--------')\n",
    "print(f'A_mean {(A_mean):.3} - B_mean {(B_mean):.3}')\n",
    "print(f'C_mean {(C_mean):.3} - D_mean {(D_mean):.3}')\n",
    "print('\\n')"
   ]
  },
  {
   "cell_type": "code",
   "execution_count": 34,
   "metadata": {
    "collapsed": true
   },
   "outputs": [],
   "source": [
    "def get_mean_dataset(df):\n",
    "    meanJan = df.pick_up_rate[0]\n",
    "    meanMay = df.pick_up_rate[-1:].values\n",
    "    meanoverall = df.number_of_trips.sum()/df.total_trips_perday.sum()\n",
    "    print(f'Rate in Jan15: {meanJan:.3} - Rate in May15: {meanMay[0]:.3} - Overall Rate: {meanoverall:.3}')\n"
   ]
  },
  {
   "cell_type": "code",
   "execution_count": 35,
   "metadata": {
    "collapsed": false,
    "scrolled": true
   },
   "outputs": [
    {
     "name": "stdout",
     "output_type": "stream",
     "text": [
      "\n",
      "\n",
      "----A----\n",
      "Rate in Jan15: 0.302 - Rate in May15: 0.356 - Overall Rate: 0.265\n",
      "\n",
      "\n",
      "----B----\n",
      "Rate in Jan15: 0.222 - Rate in May15: 0.34 - Overall Rate: 0.328\n",
      "\n",
      "\n",
      "----C----\n",
      "Rate in Jan15: 0.299 - Rate in May15: 0.421 - Overall Rate: 0.209\n",
      "\n",
      "\n",
      "----D----\n",
      "Rate in Jan15: 0.208 - Rate in May15: 0.175 - Overall Rate: 0.219\n",
      "\n",
      "\n"
     ]
    }
   ],
   "source": [
    "print('\\n')\n",
    "print('----A----')\n",
    "get_mean_dataset(A)\n",
    "print('\\n')\n",
    "print('----B----')\n",
    "get_mean_dataset(B)\n",
    "print('\\n')\n",
    "print('----C----')\n",
    "get_mean_dataset(C)\n",
    "print('\\n')\n",
    "print('----D----')\n",
    "get_mean_dataset(D)\n",
    "print('\\n')\n"
   ]
  },
  {
   "cell_type": "code",
   "execution_count": 36,
   "metadata": {
    "collapsed": false
   },
   "outputs": [
    {
     "name": "stdout",
     "output_type": "stream",
     "text": [
      "Pickup Rate at company A is: [0.3 - 0.31] with 95.0% confidence\n",
      "Pickup Rate at company B is: [0.26 - 0.27] with 95.0% confidence\n",
      "Pickup Rate at company C is: [0.25 - 0.26] with 95.0% confidence\n"
     ]
    }
   ],
   "source": [
    "confidence_level = .95\n",
    "A_ci_lower = stats.beta.ppf(1-confidence_level, A_pos_alpha, A_pos_beta)\n",
    "A_ci_upper = stats.beta.ppf(confidence_level, A_pos_alpha, A_pos_beta)\n",
    "B_ci_lower = stats.beta.ppf(1-confidence_level, B_pos_alpha,B_pos_beta)\n",
    "B_ci_upper = stats.beta.ppf(confidence_level, B_pos_alpha,B_pos_beta)\n",
    "C_ci_lower = stats.beta.ppf(1-confidence_level, C_pos_alpha, C_pos_beta)\n",
    "C_ci_upper = stats.beta.ppf(confidence_level, C_pos_alpha, C_pos_beta)\n",
    "\n",
    "print(f\"Pickup Rate at company A is: [{A_ci_lower:.2} - {A_ci_upper:.2}] with {confidence_level:.1%} confidence\")\n",
    "print(f\"Pickup Rate at company B is: [{B_ci_lower:.2} - {B_ci_upper:.2}] with {confidence_level:.1%} confidence\")\n",
    "print(f\"Pickup Rate at company C is: [{C_ci_lower:.2} - {C_ci_upper:.2}] with {confidence_level:.1%} confidence\")\n"
   ]
  },
  {
   "cell_type": "markdown",
   "metadata": {
    "collapsed": true
   },
   "source": [
    "<img src=\"image/pickuprate.png\">\n",
    "\n",
    "<img src=\"image/pickuprate0.png\">\n"
   ]
  },
  {
   "cell_type": "code",
   "execution_count": null,
   "metadata": {
    "collapsed": true
   },
   "outputs": [],
   "source": []
  }
 ],
 "metadata": {
  "kernelspec": {
   "display_name": "Python [stats]",
   "language": "python",
   "name": "Python [stats]"
  },
  "language_info": {
   "codemirror_mode": {
    "name": "ipython",
    "version": 3
   },
   "file_extension": ".py",
   "mimetype": "text/x-python",
   "name": "python",
   "nbconvert_exporter": "python",
   "pygments_lexer": "ipython3",
   "version": "3.6.1"
  }
 },
 "nbformat": 4,
 "nbformat_minor": 2
}
